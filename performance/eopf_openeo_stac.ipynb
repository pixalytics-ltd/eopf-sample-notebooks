{
 "cells": [
  {
   "cell_type": "markdown",
   "id": "262fb40e-005a-4838-883a-d7075ecd7f5b",
   "metadata": {},
   "source": [
    "`conda install openeo` "
   ]
  },
  {
   "cell_type": "code",
   "execution_count": 2,
   "id": "f4d4b55d-45d9-44ee-8a1a-648cd809c43d",
   "metadata": {},
   "outputs": [],
   "source": [
    "import openeo"
   ]
  },
  {
   "cell_type": "code",
   "execution_count": 3,
   "id": "0b0b953c-0844-49a0-a7b4-55f27cfcd4bf",
   "metadata": {},
   "outputs": [
    {
     "ename": "Exception",
     "evalue": "Failed to find user dir for 'openeo-python-client'. Tried: [PosixPath('/home/jovyan/.config/openeo-python-client')]",
     "output_type": "error",
     "traceback": [
      "\u001b[0;31m---------------------------------------------------------------------------\u001b[0m",
      "\u001b[0;31mException\u001b[0m                                 Traceback (most recent call last)",
      "Cell \u001b[0;32mIn[3], line 1\u001b[0m\n\u001b[0;32m----> 1\u001b[0m connection \u001b[38;5;241m=\u001b[39m \u001b[43mopeneo\u001b[49m\u001b[38;5;241;43m.\u001b[39;49m\u001b[43mconnect\u001b[49m\u001b[43m(\u001b[49m\u001b[38;5;124;43m\"\u001b[39;49m\u001b[38;5;124;43mopeneo.dataspace.copernicus.eu\u001b[39;49m\u001b[38;5;124;43m\"\u001b[39;49m\u001b[43m)\u001b[49m\u001b[38;5;241;43m.\u001b[39;49m\u001b[43mauthenticate_oidc\u001b[49m\u001b[43m(\u001b[49m\u001b[43m)\u001b[49m\n",
      "File \u001b[0;32m/srv/conda/envs/notebook/lib/python3.11/site-packages/openeo/rest/connection.py:587\u001b[0m, in \u001b[0;36mConnection.authenticate_oidc\u001b[0;34m(self, provider_id, client_id, client_secret, store_refresh_token, use_pkce, display, max_poll_time)\u001b[0m\n\u001b[1;32m    584\u001b[0m     \u001b[38;5;28;01mraise\u001b[39;00m \u001b[38;5;167;01mValueError\u001b[39;00m(\u001b[38;5;124mf\u001b[39m\u001b[38;5;124m\"\u001b[39m\u001b[38;5;124mUnhandled auth method \u001b[39m\u001b[38;5;132;01m{\u001b[39;00mauth_method\u001b[38;5;132;01m}\u001b[39;00m\u001b[38;5;124m\"\u001b[39m)\n\u001b[1;32m    586\u001b[0m _g \u001b[38;5;241m=\u001b[39m DefaultOidcClientGrant  \u001b[38;5;66;03m# alias for compactness\u001b[39;00m\n\u001b[0;32m--> 587\u001b[0m provider_id, client_info \u001b[38;5;241m=\u001b[39m \u001b[38;5;28;43mself\u001b[39;49m\u001b[38;5;241;43m.\u001b[39;49m\u001b[43m_get_oidc_provider_and_client_info\u001b[49m\u001b[43m(\u001b[49m\n\u001b[1;32m    588\u001b[0m \u001b[43m    \u001b[49m\u001b[43mprovider_id\u001b[49m\u001b[38;5;241;43m=\u001b[39;49m\u001b[43mprovider_id\u001b[49m\u001b[43m,\u001b[49m\u001b[43m \u001b[49m\u001b[43mclient_id\u001b[49m\u001b[38;5;241;43m=\u001b[39;49m\u001b[43mclient_id\u001b[49m\u001b[43m,\u001b[49m\u001b[43m \u001b[49m\u001b[43mclient_secret\u001b[49m\u001b[38;5;241;43m=\u001b[39;49m\u001b[43mclient_secret\u001b[49m\u001b[43m,\u001b[49m\n\u001b[1;32m    589\u001b[0m \u001b[43m    \u001b[49m\u001b[43mdefault_client_grant_check\u001b[49m\u001b[38;5;241;43m=\u001b[39;49m\u001b[38;5;28;43;01mlambda\u001b[39;49;00m\u001b[43m \u001b[49m\u001b[43mgrants\u001b[49m\u001b[43m:\u001b[49m\u001b[43m \u001b[49m\u001b[43m(\u001b[49m\n\u001b[1;32m    590\u001b[0m \u001b[43m            \u001b[49m\u001b[43m_g\u001b[49m\u001b[38;5;241;43m.\u001b[39;49m\u001b[43mREFRESH_TOKEN\u001b[49m\u001b[43m \u001b[49m\u001b[38;5;129;43;01min\u001b[39;49;00m\u001b[43m \u001b[49m\u001b[43mgrants\u001b[49m\u001b[43m \u001b[49m\u001b[38;5;129;43;01mand\u001b[39;49;00m\u001b[43m \u001b[49m\u001b[43m(\u001b[49m\u001b[43m_g\u001b[49m\u001b[38;5;241;43m.\u001b[39;49m\u001b[43mDEVICE_CODE\u001b[49m\u001b[43m \u001b[49m\u001b[38;5;129;43;01min\u001b[39;49;00m\u001b[43m \u001b[49m\u001b[43mgrants\u001b[49m\u001b[43m \u001b[49m\u001b[38;5;129;43;01mor\u001b[39;49;00m\u001b[43m \u001b[49m\u001b[43m_g\u001b[49m\u001b[38;5;241;43m.\u001b[39;49m\u001b[43mDEVICE_CODE_PKCE\u001b[49m\u001b[43m \u001b[49m\u001b[38;5;129;43;01min\u001b[39;49;00m\u001b[43m \u001b[49m\u001b[43mgrants\u001b[49m\u001b[43m)\u001b[49m\n\u001b[1;32m    591\u001b[0m \u001b[43m    \u001b[49m\u001b[43m)\u001b[49m\n\u001b[1;32m    592\u001b[0m \u001b[43m\u001b[49m\u001b[43m)\u001b[49m\n\u001b[1;32m    594\u001b[0m \u001b[38;5;66;03m# Try refresh token first.\u001b[39;00m\n\u001b[1;32m    595\u001b[0m refresh_token \u001b[38;5;241m=\u001b[39m \u001b[38;5;28mself\u001b[39m\u001b[38;5;241m.\u001b[39m_get_refresh_token_store()\u001b[38;5;241m.\u001b[39mget_refresh_token(\n\u001b[1;32m    596\u001b[0m     issuer\u001b[38;5;241m=\u001b[39mclient_info\u001b[38;5;241m.\u001b[39mprovider\u001b[38;5;241m.\u001b[39missuer,\n\u001b[1;32m    597\u001b[0m     client_id\u001b[38;5;241m=\u001b[39mclient_info\u001b[38;5;241m.\u001b[39mclient_id\n\u001b[1;32m    598\u001b[0m )\n",
      "File \u001b[0;32m/srv/conda/envs/notebook/lib/python3.11/site-packages/openeo/rest/connection.py:319\u001b[0m, in \u001b[0;36mConnection._get_oidc_provider_and_client_info\u001b[0;34m(self, provider_id, client_id, client_secret, default_client_grant_check)\u001b[0m\n\u001b[1;32m    317\u001b[0m \u001b[38;5;28;01mif\u001b[39;00m client_id \u001b[38;5;129;01mis\u001b[39;00m \u001b[38;5;28;01mNone\u001b[39;00m:\n\u001b[1;32m    318\u001b[0m     _log\u001b[38;5;241m.\u001b[39mdebug(\u001b[38;5;124m\"\u001b[39m\u001b[38;5;124mNo client_id: checking config for preferred client_id\u001b[39m\u001b[38;5;124m\"\u001b[39m)\n\u001b[0;32m--> 319\u001b[0m     client_id, client_secret \u001b[38;5;241m=\u001b[39m \u001b[38;5;28;43mself\u001b[39;49m\u001b[38;5;241;43m.\u001b[39;49m\u001b[43m_get_auth_config\u001b[49m\u001b[43m(\u001b[49m\u001b[43m)\u001b[49m\u001b[38;5;241m.\u001b[39mget_oidc_client_configs(\n\u001b[1;32m    320\u001b[0m         backend\u001b[38;5;241m=\u001b[39m\u001b[38;5;28mself\u001b[39m\u001b[38;5;241m.\u001b[39m_orig_url, provider_id\u001b[38;5;241m=\u001b[39mprovider_id\n\u001b[1;32m    321\u001b[0m     )\n\u001b[1;32m    322\u001b[0m     \u001b[38;5;28;01mif\u001b[39;00m client_id:\n\u001b[1;32m    323\u001b[0m         _log\u001b[38;5;241m.\u001b[39minfo(\u001b[38;5;124m\"\u001b[39m\u001b[38;5;124mUsing client_id \u001b[39m\u001b[38;5;132;01m{c!r}\u001b[39;00m\u001b[38;5;124m from config (provider \u001b[39m\u001b[38;5;132;01m{p!r}\u001b[39;00m\u001b[38;5;124m)\u001b[39m\u001b[38;5;124m\"\u001b[39m\u001b[38;5;241m.\u001b[39mformat(c\u001b[38;5;241m=\u001b[39mclient_id, p\u001b[38;5;241m=\u001b[39mprovider_id))\n",
      "File \u001b[0;32m/srv/conda/envs/notebook/lib/python3.11/site-packages/openeo/rest/connection.py:206\u001b[0m, in \u001b[0;36mConnection._get_auth_config\u001b[0;34m(self)\u001b[0m\n\u001b[1;32m    204\u001b[0m \u001b[38;5;28;01mdef\u001b[39;00m \u001b[38;5;21m_get_auth_config\u001b[39m(\u001b[38;5;28mself\u001b[39m) \u001b[38;5;241m-\u001b[39m\u001b[38;5;241m>\u001b[39m AuthConfig:\n\u001b[1;32m    205\u001b[0m     \u001b[38;5;28;01mif\u001b[39;00m \u001b[38;5;28mself\u001b[39m\u001b[38;5;241m.\u001b[39m_auth_config \u001b[38;5;129;01mis\u001b[39;00m \u001b[38;5;28;01mNone\u001b[39;00m:\n\u001b[0;32m--> 206\u001b[0m         \u001b[38;5;28mself\u001b[39m\u001b[38;5;241m.\u001b[39m_auth_config \u001b[38;5;241m=\u001b[39m \u001b[43mAuthConfig\u001b[49m\u001b[43m(\u001b[49m\u001b[43m)\u001b[49m\n\u001b[1;32m    207\u001b[0m     \u001b[38;5;28;01mreturn\u001b[39;00m \u001b[38;5;28mself\u001b[39m\u001b[38;5;241m.\u001b[39m_auth_config\n",
      "File \u001b[0;32m/srv/conda/envs/notebook/lib/python3.11/site-packages/openeo/rest/auth/config.py:76\u001b[0m, in \u001b[0;36mPrivateJsonFile.__init__\u001b[0;34m(self, path)\u001b[0m\n\u001b[1;32m     74\u001b[0m \u001b[38;5;28;01mdef\u001b[39;00m \u001b[38;5;21m__init__\u001b[39m(\u001b[38;5;28mself\u001b[39m, path: Path \u001b[38;5;241m=\u001b[39m \u001b[38;5;28;01mNone\u001b[39;00m):\n\u001b[1;32m     75\u001b[0m     \u001b[38;5;28;01mif\u001b[39;00m path \u001b[38;5;129;01mis\u001b[39;00m \u001b[38;5;28;01mNone\u001b[39;00m:\n\u001b[0;32m---> 76\u001b[0m         path \u001b[38;5;241m=\u001b[39m \u001b[38;5;28;43mself\u001b[39;49m\u001b[38;5;241;43m.\u001b[39;49m\u001b[43mdefault_path\u001b[49m\u001b[43m(\u001b[49m\u001b[43m)\u001b[49m\n\u001b[1;32m     77\u001b[0m     \u001b[38;5;28;01mif\u001b[39;00m path\u001b[38;5;241m.\u001b[39mis_dir():\n\u001b[1;32m     78\u001b[0m         path \u001b[38;5;241m=\u001b[39m path \u001b[38;5;241m/\u001b[39m \u001b[38;5;28mself\u001b[39m\u001b[38;5;241m.\u001b[39mDEFAULT_FILENAME\n",
      "File \u001b[0;32m/srv/conda/envs/notebook/lib/python3.11/site-packages/openeo/rest/auth/config.py:137\u001b[0m, in \u001b[0;36mAuthConfig.default_path\u001b[0;34m(cls)\u001b[0m\n\u001b[1;32m    135\u001b[0m \u001b[38;5;129m@classmethod\u001b[39m\n\u001b[1;32m    136\u001b[0m \u001b[38;5;28;01mdef\u001b[39;00m \u001b[38;5;21mdefault_path\u001b[39m(\u001b[38;5;28mcls\u001b[39m) \u001b[38;5;241m-\u001b[39m\u001b[38;5;241m>\u001b[39m Path:\n\u001b[0;32m--> 137\u001b[0m     \u001b[38;5;28;01mreturn\u001b[39;00m \u001b[43mget_user_config_dir\u001b[49m\u001b[43m(\u001b[49m\u001b[43mauto_create\u001b[49m\u001b[38;5;241;43m=\u001b[39;49m\u001b[38;5;28;43;01mTrue\u001b[39;49;00m\u001b[43m)\u001b[49m \u001b[38;5;241m/\u001b[39m \u001b[38;5;28mcls\u001b[39m\u001b[38;5;241m.\u001b[39mDEFAULT_FILENAME\n",
      "File \u001b[0;32m/srv/conda/envs/notebook/lib/python3.11/site-packages/openeo/config.py:74\u001b[0m, in \u001b[0;36mget_user_config_dir\u001b[0;34m(app_name, auto_create)\u001b[0m\n\u001b[1;32m     70\u001b[0m \u001b[38;5;28;01mdef\u001b[39;00m \u001b[38;5;21mget_user_config_dir\u001b[39m(app_name\u001b[38;5;241m=\u001b[39mDEFAULT_APP_NAME, auto_create\u001b[38;5;241m=\u001b[39m\u001b[38;5;28;01mTrue\u001b[39;00m) \u001b[38;5;241m-\u001b[39m\u001b[38;5;241m>\u001b[39m Path:\n\u001b[1;32m     71\u001b[0m \u001b[38;5;250m    \u001b[39m\u001b[38;5;124;03m\"\"\"\u001b[39;00m\n\u001b[1;32m     72\u001b[0m \u001b[38;5;124;03m    Get platform specific config folder\u001b[39;00m\n\u001b[1;32m     73\u001b[0m \u001b[38;5;124;03m    \"\"\"\u001b[39;00m\n\u001b[0;32m---> 74\u001b[0m     \u001b[38;5;28;01mreturn\u001b[39;00m \u001b[43m_get_user_dir\u001b[49m\u001b[43m(\u001b[49m\n\u001b[1;32m     75\u001b[0m \u001b[43m        \u001b[49m\u001b[43mapp_name\u001b[49m\u001b[38;5;241;43m=\u001b[39;49m\u001b[43mapp_name\u001b[49m\u001b[43m,\u001b[49m\n\u001b[1;32m     76\u001b[0m \u001b[43m        \u001b[49m\u001b[43mxdg_env_var\u001b[49m\u001b[38;5;241;43m=\u001b[39;49m\u001b[38;5;124;43m\"\u001b[39;49m\u001b[38;5;124;43mXDG_CONFIG_HOME\u001b[39;49m\u001b[38;5;124;43m\"\u001b[39;49m\u001b[43m,\u001b[49m\n\u001b[1;32m     77\u001b[0m \u001b[43m        \u001b[49m\u001b[43mwin_env_var\u001b[49m\u001b[38;5;241;43m=\u001b[39;49m\u001b[38;5;124;43m\"\u001b[39;49m\u001b[38;5;124;43mAPPDATA\u001b[39;49m\u001b[38;5;124;43m\"\u001b[39;49m\u001b[43m,\u001b[49m\n\u001b[1;32m     78\u001b[0m \u001b[43m        \u001b[49m\u001b[43mfallback\u001b[49m\u001b[38;5;241;43m=\u001b[39;49m\u001b[38;5;124;43m\"\u001b[39;49m\u001b[38;5;124;43m~/.config\u001b[39;49m\u001b[38;5;124;43m\"\u001b[39;49m\u001b[43m,\u001b[49m\n\u001b[1;32m     79\u001b[0m \u001b[43m        \u001b[49m\u001b[43mwin_fallback\u001b[49m\u001b[38;5;241;43m=\u001b[39;49m\u001b[38;5;124;43m\"\u001b[39;49m\u001b[38;5;124;43m~\u001b[39;49m\u001b[38;5;130;43;01m\\\\\u001b[39;49;00m\u001b[38;5;124;43mAppData\u001b[39;49m\u001b[38;5;130;43;01m\\\\\u001b[39;49;00m\u001b[38;5;124;43mRoaming\u001b[39;49m\u001b[38;5;124;43m\"\u001b[39;49m\u001b[43m,\u001b[49m\n\u001b[1;32m     80\u001b[0m \u001b[43m        \u001b[49m\u001b[43mmacos_fallback\u001b[49m\u001b[38;5;241;43m=\u001b[39;49m\u001b[38;5;124;43m\"\u001b[39;49m\u001b[38;5;124;43m~/Library/Preferences\u001b[39;49m\u001b[38;5;124;43m\"\u001b[39;49m\u001b[43m,\u001b[49m\n\u001b[1;32m     81\u001b[0m \u001b[43m        \u001b[49m\u001b[43mauto_create\u001b[49m\u001b[38;5;241;43m=\u001b[39;49m\u001b[43mauto_create\u001b[49m\u001b[43m,\u001b[49m\n\u001b[1;32m     82\u001b[0m \u001b[43m    \u001b[49m\u001b[43m)\u001b[49m\n",
      "File \u001b[0;32m/srv/conda/envs/notebook/lib/python3.11/site-packages/openeo/config.py:67\u001b[0m, in \u001b[0;36m_get_user_dir\u001b[0;34m(app_name, xdg_env_var, win_env_var, fallback, win_fallback, macos_fallback, auto_create)\u001b[0m\n\u001b[1;32m     64\u001b[0m         \u001b[38;5;28;01mexcept\u001b[39;00m \u001b[38;5;167;01mOSError\u001b[39;00m:\n\u001b[1;32m     65\u001b[0m             \u001b[38;5;28;01mpass\u001b[39;00m\n\u001b[0;32m---> 67\u001b[0m \u001b[38;5;28;01mraise\u001b[39;00m \u001b[38;5;167;01mException\u001b[39;00m(\u001b[38;5;124m\"\u001b[39m\u001b[38;5;124mFailed to find user dir for \u001b[39m\u001b[38;5;132;01m{a!r}\u001b[39;00m\u001b[38;5;124m. Tried: \u001b[39m\u001b[38;5;132;01m{p!r}\u001b[39;00m\u001b[38;5;124m\"\u001b[39m\u001b[38;5;241m.\u001b[39mformat(a\u001b[38;5;241m=\u001b[39mapp_name, p\u001b[38;5;241m=\u001b[39mdirs))\n",
      "\u001b[0;31mException\u001b[0m: Failed to find user dir for 'openeo-python-client'. Tried: [PosixPath('/home/jovyan/.config/openeo-python-client')]"
     ]
    }
   ],
   "source": [
    "connection = openeo.connect(\"openeo.dataspace.copernicus.eu\").authenticate_oidc()"
   ]
  },
  {
   "cell_type": "code",
   "execution_count": 4,
   "id": "727bcaa6-6395-4c77-a0bb-7b1af35f6281",
   "metadata": {},
   "outputs": [],
   "source": [
    "bbox = [9.51394272720868, 53.52777389917263, 9.856775345771272, 53.77590598108809]\n",
    "time_range = ['2025-05-01', '2025-06-01']\n",
    "bands = ['b02']"
   ]
  },
  {
   "cell_type": "code",
   "execution_count": 5,
   "id": "d83b0d47-ea43-403e-9826-84364919e19b",
   "metadata": {},
   "outputs": [
    {
     "ename": "NameError",
     "evalue": "name 'connection' is not defined",
     "output_type": "error",
     "traceback": [
      "\u001b[0;31m---------------------------------------------------------------------------\u001b[0m",
      "\u001b[0;31mNameError\u001b[0m                                 Traceback (most recent call last)",
      "Cell \u001b[0;32mIn[5], line 4\u001b[0m\n\u001b[1;32m      1\u001b[0m url \u001b[38;5;241m=\u001b[39m \u001b[38;5;124m\"\u001b[39m\u001b[38;5;124mhttps://stac.core.eopf.eodc.eu/collections/sentinel-2-l2a\u001b[39m\u001b[38;5;124m\"\u001b[39m\n\u001b[1;32m      2\u001b[0m \u001b[38;5;66;03m# url = \"https://catalogue.dataspace.copernicus.eu/stac/collections/SENTINEL-2\"\u001b[39;00m\n\u001b[0;32m----> 4\u001b[0m cube \u001b[38;5;241m=\u001b[39m \u001b[43mconnection\u001b[49m\u001b[38;5;241m.\u001b[39mload_stac(\n\u001b[1;32m      5\u001b[0m     url\u001b[38;5;241m=\u001b[39murl,\n\u001b[1;32m      6\u001b[0m     spatial_extent \u001b[38;5;241m=\u001b[39m {\n\u001b[1;32m      7\u001b[0m         \u001b[38;5;124m\"\u001b[39m\u001b[38;5;124mwest\u001b[39m\u001b[38;5;124m\"\u001b[39m: bbox[\u001b[38;5;241m0\u001b[39m],\n\u001b[1;32m      8\u001b[0m         \u001b[38;5;124m\"\u001b[39m\u001b[38;5;124msouth\u001b[39m\u001b[38;5;124m\"\u001b[39m: bbox[\u001b[38;5;241m1\u001b[39m],\n\u001b[1;32m      9\u001b[0m         \u001b[38;5;124m\"\u001b[39m\u001b[38;5;124meast\u001b[39m\u001b[38;5;124m\"\u001b[39m: bbox[\u001b[38;5;241m2\u001b[39m],\n\u001b[1;32m     10\u001b[0m         \u001b[38;5;124m\"\u001b[39m\u001b[38;5;124mnorth\u001b[39m\u001b[38;5;124m\"\u001b[39m: bbox[\u001b[38;5;241m3\u001b[39m],\n\u001b[1;32m     11\u001b[0m     },\n\u001b[1;32m     12\u001b[0m     temporal_extent\u001b[38;5;241m=\u001b[39mtime_range,\n\u001b[1;32m     13\u001b[0m     bands\u001b[38;5;241m=\u001b[39mbands,\n\u001b[1;32m     14\u001b[0m )\n\u001b[1;32m     16\u001b[0m cube_mnth \u001b[38;5;241m=\u001b[39m cube\u001b[38;5;241m.\u001b[39mreduce_dimension(dimension\u001b[38;5;241m=\u001b[39m\u001b[38;5;124m\"\u001b[39m\u001b[38;5;124mt\u001b[39m\u001b[38;5;124m\"\u001b[39m, reducer\u001b[38;5;241m=\u001b[39m\u001b[38;5;124m\"\u001b[39m\u001b[38;5;124mmean\u001b[39m\u001b[38;5;124m\"\u001b[39m)\n\u001b[1;32m     17\u001b[0m res \u001b[38;5;241m=\u001b[39m cube_mnth\u001b[38;5;241m.\u001b[39mdownload(\u001b[38;5;124m\"\u001b[39m\u001b[38;5;124mopeneo_t_mean.tiff\u001b[39m\u001b[38;5;124m\"\u001b[39m, \u001b[38;5;28mformat\u001b[39m\u001b[38;5;241m=\u001b[39m\u001b[38;5;124m\"\u001b[39m\u001b[38;5;124mGTiff\u001b[39m\u001b[38;5;124m\"\u001b[39m)\n",
      "\u001b[0;31mNameError\u001b[0m: name 'connection' is not defined"
     ]
    }
   ],
   "source": [
    "url = \"https://stac.core.eopf.eodc.eu/collections/sentinel-2-l2a\"\n",
    "# url = \"https://catalogue.dataspace.copernicus.eu/stac/collections/SENTINEL-2\"\n",
    "\n",
    "cube = connection.load_stac(\n",
    "    url=url,\n",
    "    spatial_extent = {\n",
    "        \"west\": bbox[0],\n",
    "        \"south\": bbox[1],\n",
    "        \"east\": bbox[2],\n",
    "        \"north\": bbox[3],\n",
    "    },\n",
    "    temporal_extent=time_range,\n",
    "    bands=bands,\n",
    ")\n",
    "\n",
    "cube_mnth = cube.reduce_dimension(dimension=\"t\", reducer=\"mean\")\n",
    "res = cube_mnth.download(\"openeo_t_mean.tiff\", format=\"GTiff\")"
   ]
  },
  {
   "cell_type": "code",
   "execution_count": null,
   "id": "64771b30-656a-438e-9fd3-42b3ea1b159f",
   "metadata": {},
   "outputs": [],
   "source": []
  }
 ],
 "metadata": {
  "kernelspec": {
   "display_name": "Python 3 (ipykernel)",
   "language": "python",
   "name": "python3"
  },
  "language_info": {
   "codemirror_mode": {
    "name": "ipython",
    "version": 3
   },
   "file_extension": ".py",
   "mimetype": "text/x-python",
   "name": "python",
   "nbconvert_exporter": "python",
   "pygments_lexer": "ipython3",
   "version": "3.11.13"
  }
 },
 "nbformat": 4,
 "nbformat_minor": 5
}
