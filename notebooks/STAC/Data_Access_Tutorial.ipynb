{
 "cells": [
  {
   "cell_type": "markdown",
   "id": "cb2b4211",
   "metadata": {},
   "source": [
    "---\n",
    "title: Accessing Zarr Data\n",
    "subtitle: Explore how to access Data in Zarr format.\n",
    "authors:\n",
    "  - name: Simon Mosonyi\n",
    "    github: SimonMosonyi\n",
    "    affiliations:\n",
    "      - id: eodc\n",
    "        institution: eodc\n",
    "date: 2025-09-25\n",
    "thumbnail: ../static/ESA_EOPF_logo_2025_COLOR_ESA_blue_reduced.png\n",
    "keywords: [\"xarray\", \"stac\"]\n",
    "tags: [\"xarray\", \"stac\"]\n",
    "releaseDate: 2025-09-25\n",
    "datePublished: 2025-09-25\n",
    "dateModified: 2025-09-25\n",
    "github: https://github.com/EOPF-Sample-Service/eopf-sample-notebooks\n",
    "license: Apache-2.0\n",
    "---"
   ]
  },
  {
   "cell_type": "markdown",
   "id": "f95229e6",
   "metadata": {},
   "source": [
    "```{image} ../static/ESA_EOPF_logo_2025_COLOR_ESA_blue_reduced.png\n",
    ":alt: ESA EOPF Zarr Logo\n",
    ":width: 250px\n",
    ":align: center\n",
    "```"
   ]
  },
  {
   "cell_type": "markdown",
   "id": "881bce12",
   "metadata": {},
   "source": [
    "## Table of Contents\n",
    "1. [Introduction](#Introduction_STAC_TUTORIAL)\n",
    "1. [Explore Data in STAC Browser](#explore_STAC_TUTORIAL)\n",
    "2. [Access the Data](#access_STAC_TUTORIAL)\n",
    "    - [Using `s5cmd`](#using_s5_cmd_STAC_TUTORIAL)\n",
    "        - [Install `s5cmd`](#install_s5cmd_STAC_TUTORIAL)\n",
    "        - [List Files in a Bucket](#list_STAC_TUTORIAL)\n",
    "        - [Download Files Locally](#download_STAC_TUTORIAL)\n",
    "    - [Using Python](#using_python_STAC_TUTORIAL)\n",
    "        - [`pystac-client`](#pystac_client_STAC_TUTORIAL)\n",
    "        - [`boto3`](#boto3_STAC_TUTORIAL)"
   ]
  },
  {
   "cell_type": "markdown",
   "id": "e913947f",
   "metadata": {},
   "source": [
    "(Introduction_STAC_TUTORIAL)=\n",
    "## Introduction\n",
    "\n",
    "This notebook demonstrates how to access Zarr-formatted data using:\n",
    "\n",
    "- ```s5cmd```: A fast command-line tool for working with S3 object storage.\n",
    "- Python libraries like ```pystac-client```, ```xarray```, and ```boto3```.\n",
    "\n",
    ":::{hint} Overview\n",
    "**Questions**\n",
    "- What is the most efficient way to interact with Zarr-formatted Earth Observation data in the cloud?\n",
    "- How can I explore available Sentinel datasets before downloading or loading them?\n",
    "- What are the differences between using command-line tools and Python APIs to access Zarr data?\n",
    "\n",
    "**Objectives**\n",
    "- Explore Sentinel data collections through the STAC Browser and Python-based STAC API clients.\n",
    "- Use ```s5cmd``` to list and download Zarr datasets from cloud object storage.\n",
    "- Load Zarr data directly into Python using ```pystac-client```, ```boto3```, and ```xarray``` for scalable analysis.\n",
    ":::"
   ]
  },
  {
   "cell_type": "markdown",
   "id": "7050122d",
   "metadata": {},
   "source": [
    "(explore_STAC_TUTORIAL)=\n",
    "## Explore Data in STAC Browser\n",
    "\n",
    "You can browse the available Sentinel datasets interactively using our [STAC Browser](https://stac.browser.user.eopf.eodc.eu/?.language=de). Use it to filter by collection, date, or location before programmatically accessing data."
   ]
  },
  {
   "cell_type": "markdown",
   "id": "f1be8a71",
   "metadata": {},
   "source": [
    "(access_STAC_TUTORIAL)=\n",
    "## Access the Data\n",
    "\n",
    "Explore, interact with and retrieve Sentinel 1, 2 and 3 data in EOPF Zarr format.\n",
    "\n",
    "**Direct download is not the recommended approach. We encourage users to interact with the data directly through cloud-based resources for better efficiency and scalability.**"
   ]
  },
  {
   "cell_type": "markdown",
   "id": "ddc06599",
   "metadata": {},
   "source": [
    "(using_s5_cmd_STAC_TUTORIAL)=\n",
    "### Using ```s5cmd```\n",
    "\n",
    "> ```s5cmd``` is a very fast S3 and local filesystem execution tool. It comes with support for a multitude of operations including tab completion and wildcard support for files, which can be very handy for your object storage workflow while working with large number of files."
   ]
  },
  {
   "cell_type": "markdown",
   "id": "ebd7fb63",
   "metadata": {},
   "source": [
    "(install_s5cmd_STAC_TUTORIAL)=\n",
    "#### Install ```s5cmd```\n",
    "\n",
    "You can install ```s5cmd``` from the official [GitHub repository](https://github.com/peak/s5cmd?tab=readme-ov-file#installation).\n"
   ]
  },
  {
   "cell_type": "markdown",
   "id": "dbc3a107",
   "metadata": {},
   "source": [
    "(list_STAC_TUTORIAL)=\n",
    "#### List Files in a bucket\n",
    "\n",
    "```bash\n",
    "s5cmd --endpoint-url https://objects.eodc.eu -no-sign-request ls \\\n",
    "\"s3://e05ab01a9d56408d82ac32d69a5aae2a:202507-s03olclfr/*\"\n",
    "```"
   ]
  },
  {
   "cell_type": "markdown",
   "id": "334a0c9b",
   "metadata": {},
   "source": [
    "(download_STAC_TUTORIA)=\n",
    "#### Download Files Locally\n",
    "\n",
    "```bash\n",
    "s5cmd --endpoint-url https://objects.eodc.eu -no-sign-request cp \\\n",
    "\"s3://e05ab01a9d56408d82ac32d69a5aae2a:202507-s03olclfr/06/../products/cpm_v256/S3A_OL_2_LFR____20250706T083947_20250706T084247_20250707T125430_0179_128_007_2160_PS1_O_NT_003.zarr/*\" \\\n",
    "./dummy.zarr/\n",
    "```"
   ]
  },
  {
   "cell_type": "markdown",
   "id": "888d1a33",
   "metadata": {},
   "source": [
    "(using_python_STAC_TUTORIAL)=\n",
    "### Using Python\n",
    "\n",
    "You can programmatically discover and load data with Python using the following libraries:"
   ]
  },
  {
   "cell_type": "markdown",
   "id": "6e2999e1",
   "metadata": {},
   "source": [
    "(pystac_client_STAC_TUTORIAL)=\n",
    "#### pystac-client\n",
    "\n",
    "Search for available data and load it directly from object storage using ```pystac-client``` and ```xarray```."
   ]
  },
  {
   "cell_type": "code",
   "execution_count": 1,
   "id": "7f48540a",
   "metadata": {},
   "outputs": [],
   "source": [
    "from pystac_client import Client\n",
    "\n",
    "catalog = Client.open(\"https://stac.core.eopf.eodc.eu\")\n",
    "results = catalog.search(\n",
    "    collections=[\"sentinel-2-l2a\"],\n",
    "    bbox=[7.2, 44.5, 7.4, 44.7],\n",
    "    datetime=[\"2025-04-30\", \"2025-05-01\"],\n",
    ")\n",
    "\n",
    "items = results.item_collection()[0]"
   ]
  },
  {
   "cell_type": "markdown",
   "id": "9af9d311",
   "metadata": {},
   "source": [
    "Items found can be directly loaded with the ```xarray``` library."
   ]
  },
  {
   "cell_type": "code",
   "execution_count": null,
   "id": "cd9a0103",
   "metadata": {},
   "outputs": [],
   "source": [
    "import xarray as xr\n",
    "\n",
    "ds = xr.open_datatree(\n",
    "    items.assets[\"product\"].href + \"/measurements\",\n",
    "    engine=\"zarr\",\n",
    "    chunks={},\n",
    "    decode_timedelta=True,\n",
    "    consolidated=False,\n",
    ")\n",
    "ds"
   ]
  },
  {
   "cell_type": "markdown",
   "id": "2420747e",
   "metadata": {},
   "source": [
    "(boto3_STAC_TUTORIAL)=\n",
    "#### boto3\n",
    "\n",
    "If you prefer working directly with the S3 API, use ```boto3``` to list and access objects.\n",
    "\n",
    "EOPF products are organised on the object storage per month and product, depicted by the following bucket naming convention.\n",
    "\n",
    "```e05ab01a9d56408d82ac32d69a5aae2a:<year><month>-<product-id>```\n",
    "\n",
    "In the provided code snipped this results in the bucket name:\n",
    "\n",
    "```e05ab01a9d56408d82ac32d69a5aae2a:202506-s02msil1c```\n",
    "\n",
    "Furthermore, data is organised by day and the given software version used for conversion as indicated in the “prefix” variable in code.\n",
    "\n"
   ]
  },
  {
   "cell_type": "code",
   "execution_count": null,
   "id": "68522b4a",
   "metadata": {},
   "outputs": [],
   "source": [
    "import boto3\n",
    "from botocore.config import Config\n",
    "from botocore import UNSIGNED\n",
    "import botocore.handlers\n",
    "import re\n",
    "\n",
    "botocore.handlers.VALID_BUCKET = re.compile(r\"^[:a-zA-Z0-9.\\-_]{1,255}$\")\n",
    "\n",
    "# Setup\n",
    "endpoint_url = \"https://objects.eodc.eu\"\n",
    "tenant = \"e05ab01a9d56408d82ac32d69a5aae2a\"\n",
    "\n",
    "s3_client = boto3.client(\n",
    "    \"s3\", endpoint_url=endpoint_url, config=Config(signature_version=UNSIGNED)\n",
    ")\n",
    "\n",
    "# Define bucket and prefix\n",
    "bucket = f\"{tenant}:202506-s02msil1c\"\n",
    "prefix = \"20/products/cpm_v256/\"\n",
    "\n",
    "# List objects under the prefix\n",
    "response = s3_client.list_objects_v2(\n",
    "    Bucket=bucket,\n",
    "    Prefix=prefix,\n",
    ")\n",
    "\n",
    "# Print object keys\n",
    "for obj in response.get(\"Contents\", []):\n",
    "    key = obj[\"Key\"]\n",
    "    match = re.search(r\"\\.zarr/\", key)\n",
    "    if match:\n",
    "        store_root = key[: match.end() - 1]\n",
    "        url = f\"{endpoint_url}/{bucket}/{store_root}\"\n",
    "        print(url)"
   ]
  },
  {
   "cell_type": "markdown",
   "id": "996cbb5b",
   "metadata": {},
   "source": [
    "You can then load the ```.zarr```. dataset using the same approach as shown earlier with ```.xarray.open_datatree()```.."
   ]
  }
 ],
 "metadata": {
  "kernelspec": {
   "display_name": "s3_env",
   "language": "python",
   "name": "python3"
  },
  "language_info": {
   "codemirror_mode": {
    "name": "ipython",
    "version": 3
   },
   "file_extension": ".py",
   "mimetype": "text/x-python",
   "name": "python",
   "nbconvert_exporter": "python",
   "pygments_lexer": "ipython3",
   "version": "3.12.1"
  }
 },
 "nbformat": 4,
 "nbformat_minor": 5
}
